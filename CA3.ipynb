{
 "cells": [
  {
   "cell_type": "markdown",
   "id": "0ae0fbd3",
   "metadata": {},
   "source": [
    "# Computer Assignment 3\n",
    "\n",
    "Negar Moradi 810198543"
   ]
  },
  {
   "cell_type": "code",
   "execution_count": 1,
   "id": "9b1f931c",
   "metadata": {},
   "outputs": [],
   "source": [
    "import pandas as pd\n",
    "from matplotlib import pyplot as plt\n",
    "import numpy as np\n",
    "from __future__ import unicode_literals\n",
    "from hazm import *\n",
    "from copy import deepcopy\n",
    "import csv\n",
    "import codecs\n",
    "import math \n",
    "import operator"
   ]
  },
  {
   "cell_type": "markdown",
   "id": "6a9cab1e",
   "metadata": {},
   "source": [
    "### Reading data"
   ]
  },
  {
   "cell_type": "code",
   "execution_count": 2,
   "id": "c11314d9",
   "metadata": {},
   "outputs": [],
   "source": [
    "divar_train = pd.read_csv(\"divar_train.csv\")\n",
    "test_train = pd.read_csv(\"divar_test.csv\")\n",
    "divar_train\n",
    "stop_words_s = stop_file = codecs.open('stop-words.txt', encoding='utf-8')"
   ]
  },
  {
   "cell_type": "markdown",
   "id": "2b12ad5a",
   "metadata": {},
   "source": [
    "### Preproccesing"
   ]
  },
  {
   "cell_type": "code",
   "execution_count": 3,
   "id": "8c9adf9e",
   "metadata": {},
   "outputs": [],
   "source": [
    "global Tokens\n",
    "Tokens = []\n",
    "\n",
    "ignore = ['.', '!', '،', '?', 'سالم','قیمت','نو']\n",
    "\n",
    "def merge(data):\n",
    "    data['data'] = data['title'] + \" \" + data['description']\n",
    "    return data\n",
    "\n",
    "def Normalize(data):\n",
    "    normalizer = Normalizer()\n",
    "    data['data'] = data.apply(lambda row: normalizer.normalize(row ['data']), axis = 1)\n",
    "    return data\n",
    "\n",
    "def Tokenize(data):   \n",
    "    data['data'] = data.apply(lambda row: word_tokenize(row['data']), axis = 1)\n",
    "    return data\n",
    "\n",
    "def Stemming(data):\n",
    "    stemmer = Stemmer()\n",
    "    data['data'] = data.apply(lambda row: [stemmer.stem(word) for word in row['data']], axis = 1)\n",
    "    return data\n",
    "\n",
    "def Lemmatization(data):\n",
    "    lemmatizer = Lemmatizer()\n",
    "    data['data'] = data.apply(lambda row: [lemmatizer.lemmatize(word) for word in row['data']], axis = 1)\n",
    "    return data\n",
    "\n",
    "def remove_stopwords(data):\n",
    "    stopwords = stopwords_list()\n",
    "    data['data'] = data.apply(lambda row: [word for word in row['data'] if word not in stopwords], axis = 1)\n",
    "    data['data'] = data.apply(lambda row: [word for word in row['data'] if word not in ignore], axis = 1)\n",
    "    data['data'] = data.apply(lambda row: [word for word in row['data'] if word not in stop_words_s], axis = 1)\n",
    "    return data\n",
    "\n",
    "def preproccesing(data):\n",
    "    tdata = deepcopy(data)\n",
    "    tdata = merge(tdata)\n",
    "    tdata = Normalize(tdata)\n",
    " #   Tokens = Tokenize(tdata)\n",
    "    tdata = Tokenize(tdata)\n",
    "    tdata = Lemmatization(tdata)\n",
    "    tdata = remove_stopwords(tdata)\n",
    "    \n",
    "    return tdata"
   ]
  },
  {
   "cell_type": "markdown",
   "id": "bd35c597",
   "metadata": {},
   "source": [
    "In the preprocessing section, we do a few things: <br>\n",
    "\n",
    "1: $ \\textbf{Normalize} \\to $ This function replace space with half-space. <br>\n",
    "2: $ \\textbf{Remove stop_words} \\to $ we remove stop_words from data. (stop_word are words that are so commonly used that they carry very little useful information.) <br>\n",
    "3: $ \\textbf{Tokenzine} \\to $ This function breaks a text into a list of it's words. <br>\n",
    "\n",
    "$ \\textbf{Stemming and Lemmatization}: $ <br>\n",
    "1: $\\textbf{Stemming} \\to $ Stemming is the process of reducing inflection in words to their root forms such as mapping a group of words to the same stem even if the stem itself is not a valid word in the Language. Infact it creates the base of a word, may be wrong some times. <br>\n",
    "for example: بهتر $ \\to $ بهترین <br>\n",
    "2: $\\textbf{Lemmatization} \\to $ Lemmatization is the process of grouping together the different inflected forms of a word so they can be analyzed as a single item. Lemmatization is similar to stemming but it brings context to the words. So it links words with similar meanings to one word. Infact Lemmatization works on verbs and returns the base form of a verb.<br>\n",
    "for example: $می خوردم $ and $می خورم $ $ \\to $ خور#خورد <br>"
   ]
  },
  {
   "cell_type": "markdown",
   "id": "7fe732b9",
   "metadata": {},
   "source": [
    "### Q1:\n",
    "Besides what we said above we can say that stemming usually removes the suffix and prefix from a word.By stemming words, we can standardize them as word roots or base states. However, it does not work accurately here. for example it changes the word $ آسان $ to $ آس $. <br>\n",
    "Lemmatization does the same and also returns the root and base of the word ,verb or a adjective. It is a more grammer related task. Lemmatization is the process of finding a word with a meaning (in the dictionary), which is really \"Bon\" or \"root\". Using this method is more accurate. <br>"
   ]
  },
  {
   "cell_type": "code",
   "execution_count": 4,
   "id": "f355e2d7",
   "metadata": {},
   "outputs": [
    {
     "name": "stdout",
     "output_type": "stream",
     "text": [
      "آس\n"
     ]
    }
   ],
   "source": [
    "stemmer = Stemmer()\n",
    "print(stemmer.stem('آسان'))"
   ]
  },
  {
   "cell_type": "markdown",
   "id": "3637396f",
   "metadata": {},
   "source": [
    "## Procces\n",
    "### Q2:"
   ]
  },
  {
   "cell_type": "markdown",
   "id": "20979b20",
   "metadata": {},
   "source": [
    "$ x \\to $ words\n",
    "and c $\\to $categories. <br>\n",
    "$ \\textbf{evidence}:$ our evidence is count of each word repeated in an ad (feature).$ \\to P(word)$ (we have n word $\\to$ word i) <br>\n",
    "$ \\textbf{likelihood}: P(word|categories) \\to $ Probability of seeing a word by knowing its categories class. <br>\n",
    "$$P(word|categories) = \\dfrac{number\\_of\\_word i\\_in\\_categoties}{number\\_of\\_all\\_words\\_in\\_categories}$$ <br>\n",
    "$ \\textbf{prior}: P(categories) \\to $ The probability of an ad to be classified as categories c.  <br>\n",
    "$$P(categories) = \\dfrac{number\\_of\\_categories i\\_ads}{all\\_ads}$$ <br>\n",
    "$ \\textbf{posterior}: P(categories|word) \\to $ The probability to classify an ad as categories c with observing a word t as evidence. <br>\n",
    "$$P(categories|word) = \\dfrac{P(word|categories) * P(categories)}{P(word)}$$\n",
    "\n",
    "\n"
   ]
  },
  {
   "cell_type": "markdown",
   "id": "1a6b30d1",
   "metadata": {},
   "source": [
    "## Biagrams\n",
    "### Q3:\n",
    "\n",
    "for example: <br>\n",
    "1) اسنپ فود به همراه غذا سس سیر نفرستاده بود <br>\n",
    "2) پس از اینکه غذا خوردم و سیر شدم خوابیدم <br>\n",
    "In the above sentences, سیر has a different meaning. for example in first sentence سیر means garlic. But in the second sentence, it means full. Using bigrams could increase accuracy. Here, سس و سیر can be considered as a token. <br>\n",
    "In our sentences, using biagram was sufficient, although there are other examples in which nbiagram is more accurate. <br>"
   ]
  },
  {
   "cell_type": "markdown",
   "id": "2d697bdf",
   "metadata": {},
   "source": [
    "## Additive Smoothing\n",
    "\n",
    "### Q4:\n",
    "When a word does not exist in a category, the probability of the category's class will be zero, therefore, test data will be classified in a different category class because of the one word no matter what other words are. <br>\n",
    "We use additive smoothing to solve the above problem.  "
   ]
  },
  {
   "cell_type": "markdown",
   "id": "56a26784",
   "metadata": {},
   "source": [
    "### Q5:\n",
    "\n",
    "In statistics, additive smoothing, also called Laplace smoothing(not to be confused with Laplacian smoothing as used in image processing), or Lidstone smoothing, is a technique used to smooth categorical data. <br>\n",
    "Laplace smoothing or additive smoothing is a smoothing technique that helps tackle the problem of zero probability in the Naïve Bayes machine learning algorithm. Using higher alpha values will push the likelihood towards a value of 0.5, i.e., the probability of a word equal to 0.5 for both the positive and negative reviews. <br>\n",
    "\n",
    "\n",
    "$$ \\dfrac{number\\_of\\_word\\_w\\_in\\_class\\_c + \\alpha}{number\\_of\\_all\\_words\\_in\\_class\\_c + |v| +\\alpha } $$ <br>\n",
    "\n",
    "we use $\\alpha = 1$. <br>\n",
    "    \n",
    "when a word is not in the train list, its probability will not be zero as its count is now 1 and when we see it again we will increase it so it is not zero any more and the problem is solved."
   ]
  },
  {
   "cell_type": "code",
   "execution_count": 5,
   "id": "68508ad6",
   "metadata": {},
   "outputs": [],
   "source": [
    "from collections import Counter\n",
    "vehicles = 0\n",
    "vehicles_dict = dict()\n",
    "leisure_hobbies = 0\n",
    "leisure_hobbies_dict = dict()\n",
    "for_the_home = 0\n",
    "for_the_home_dict = dict()\n",
    "personal = 0\n",
    "personal_dict = dict()\n",
    "electronic_devices = 0\n",
    "electronic_devices_dict = dict()\n",
    "businesses = 0\n",
    "businesses_dict = dict()\n",
    "\n",
    "tdata = preproccesing(divar_train)\n",
    "\n",
    "cat_indx = tdata.columns.get_loc(\"categories\")\n",
    "datas_indx = tdata.columns.get_loc(\"data\")\n",
    "for line in tdata.values:\n",
    "    if line[cat_indx] == 'leisure-hobbies':\n",
    "        for word in line[datas_indx]:\n",
    "            if word in leisure_hobbies_dict.keys():\n",
    "                leisure_hobbies_dict[word] += 1\n",
    "            else:\n",
    "                leisure_hobbies_dict[word] = 1\n",
    "            leisure_hobbies += 1\n",
    "    elif line[cat_indx] == 'vehicles':\n",
    "        for word in line[datas_indx]:\n",
    "            if word in vehicles_dict.keys():\n",
    "                vehicles_dict[word] += 1\n",
    "            else:\n",
    "                vehicles_dict[word] = 1\n",
    "            vehicles += 1\n",
    "    elif line[cat_indx] == 'for-the-home':\n",
    "        for word in line[datas_indx]:\n",
    "            if word in for_the_home_dict.keys():\n",
    "                for_the_home_dict[word] += 1\n",
    "            else:\n",
    "                for_the_home_dict[word] = 1\n",
    "            for_the_home += 1\n",
    "    elif line[cat_indx] == 'personal':\n",
    "        for word in line[datas_indx]:\n",
    "            if word in personal_dict.keys():\n",
    "                personal_dict[word] += 1\n",
    "            else:\n",
    "                personal_dict[word] = 1\n",
    "            personal += 1\n",
    "    if line[cat_indx] == 'electronic-devices':\n",
    "        for word in line[datas_indx]:\n",
    "            if word in electronic_devices_dict.keys():\n",
    "                electronic_devices_dict[word] += 1\n",
    "            else:\n",
    "                electronic_devices_dict[word] = 1\n",
    "            electronic_devices += 1\n",
    "    if line[cat_indx] == 'businesses':\n",
    "        for word in line[datas_indx]:\n",
    "            if word in businesses_dict.keys():\n",
    "                businesses_dict[word] += 1\n",
    "            else:\n",
    "                businesses_dict[word] = 1\n",
    "            businesses += 1"
   ]
  },
  {
   "cell_type": "code",
   "execution_count": 6,
   "id": "989ca280",
   "metadata": {},
   "outputs": [
    {
     "data": {
      "text/plain": [
       "Text(0, 0.5, 'Number of words')"
      ]
     },
     "execution_count": 6,
     "metadata": {},
     "output_type": "execute_result"
    },
    {
     "data": {
      "image/png": "[encoded data removed]",
      "text/plain": [
       "<Figure size 432x288 with 1 Axes>"
      ]
     },
     "metadata": {
      "needs_background": "light"
     },
     "output_type": "display_data"
    }
   ],
   "source": [
    "sorte = dict(sorted(leisure_hobbies_dict.items(),key=operator.itemgetter(1), reverse = True)[:5])\n",
    "plt.bar(sorte.keys(), sorte.values())\n",
    "plt.xlabel(\"leisure_hobbies\")\n",
    "plt.ylabel(\"Number of words\")\n"
   ]
  },
  {
   "cell_type": "code",
   "execution_count": 7,
   "id": "69da6aa2",
   "metadata": {},
   "outputs": [
    {
     "data": {
      "text/plain": [
       "Text(0, 0.5, 'Number of words')"
      ]
     },
     "execution_count": 7,
     "metadata": {},
     "output_type": "execute_result"
    },
    {
     "data": {
      "image/png": "[encoded data removed]",
      "text/plain": [
       "<Figure size 432x288 with 1 Axes>"
      ]
     },
     "metadata": {
      "needs_background": "light"
     },
     "output_type": "display_data"
    }
   ],
   "source": [
    "\n",
    "sorte = dict(sorted(vehicles_dict.items(),key=operator.itemgetter(1), reverse = True)[:5])\n",
    "plt.bar(sorte.keys(), sorte.values())\n",
    "plt.xlabel(\"vehicles\")\n",
    "plt.ylabel(\"Number of words\")\n"
   ]
  },
  {
   "cell_type": "code",
   "execution_count": 8,
   "id": "ab541c65",
   "metadata": {},
   "outputs": [
    {
     "data": {
      "text/plain": [
       "Text(0, 0.5, 'Number of words')"
      ]
     },
     "execution_count": 8,
     "metadata": {},
     "output_type": "execute_result"
    },
    {
     "data": {
      "image/png": "[encoded data removed]",
      "text/plain": [
       "<Figure size 432x288 with 1 Axes>"
      ]
     },
     "metadata": {
      "needs_background": "light"
     },
     "output_type": "display_data"
    }
   ],
   "source": [
    "\n",
    "sorte = dict(sorted(for_the_home_dict.items(),key=operator.itemgetter(1), reverse = True)[:5])\n",
    "plt.bar(sorte.keys(), sorte.values())\n",
    "plt.xlabel(\"for_the_home\")\n",
    "plt.ylabel(\"Number of words\")\n"
   ]
  },
  {
   "cell_type": "code",
   "execution_count": 9,
   "id": "c0a8db3b",
   "metadata": {},
   "outputs": [
    {
     "data": {
      "text/plain": [
       "Text(0, 0.5, 'Number of words')"
      ]
     },
     "execution_count": 9,
     "metadata": {},
     "output_type": "execute_result"
    },
    {
     "data": {
      "image/png": "[encoded data removed]",
      "text/plain": [
       "<Figure size 432x288 with 1 Axes>"
      ]
     },
     "metadata": {
      "needs_background": "light"
     },
     "output_type": "display_data"
    }
   ],
   "source": [
    "\n",
    "sorte = dict(sorted(personal_dict.items(),key=operator.itemgetter(1), reverse = True)[:5])\n",
    "plt.bar(sorte.keys(), sorte.values())\n",
    "plt.xlabel(\"personal\")\n",
    "plt.ylabel(\"Number of words\")\n"
   ]
  },
  {
   "cell_type": "code",
   "execution_count": 10,
   "id": "1dfd7c76",
   "metadata": {},
   "outputs": [
    {
     "data": {
      "text/plain": [
       "Text(0, 0.5, 'Number of words')"
      ]
     },
     "execution_count": 10,
     "metadata": {},
     "output_type": "execute_result"
    },
    {
     "data": {
      "image/png": "[encoded data removed]",
      "text/plain": [
       "<Figure size 432x288 with 1 Axes>"
      ]
     },
     "metadata": {
      "needs_background": "light"
     },
     "output_type": "display_data"
    }
   ],
   "source": [
    "\n",
    "sorte = dict(sorted(electronic_devices_dict.items(),key=operator.itemgetter(1), reverse = True)[:5])\n",
    "plt.bar(sorte.keys(), sorte.values())\n",
    "plt.xlabel(\"electronic_devices\")\n",
    "plt.ylabel(\"Number of words\")\n"
   ]
  },
  {
   "cell_type": "code",
   "execution_count": 11,
   "id": "2e81afea",
   "metadata": {},
   "outputs": [
    {
     "data": {
      "text/plain": [
       "Text(0, 0.5, 'Number of words')"
      ]
     },
     "execution_count": 11,
     "metadata": {},
     "output_type": "execute_result"
    },
    {
     "data": {
      "image/png": "[encoded data removed]",
      "text/plain": [
       "<Figure size 432x288 with 1 Axes>"
      ]
     },
     "metadata": {
      "needs_background": "light"
     },
     "output_type": "display_data"
    }
   ],
   "source": [
    "\n",
    "\n",
    "sorte = dict(sorted(businesses_dict.items(),key=operator.itemgetter(1), reverse = True)[:5])\n",
    "plt.bar(sorte.keys(), sorte.values())\n",
    "plt.xlabel(\"businesses\")\n",
    "plt.ylabel(\"Number of words\")"
   ]
  },
  {
   "cell_type": "code",
   "execution_count": 12,
   "id": "118897ba",
   "metadata": {},
   "outputs": [],
   "source": [
    "   \n",
    "categories =  [\"leisure-hobbies\", \"vehicles\", \"for-the-home\", \"personal\", \"electronic-devices\", \"businesses\"]     \n",
    "categoriesd = {\"leisure-hobbies\":0, \"vehicles\":1, \"for-the-home\":2, \"personal\":3, \"electronic-devices\":4, \"businesses\":5}     \n",
    "testdata = preproccesing(test_train)\n",
    "leisure_hobbies_d = (len(list(leisure_hobbies_dict.keys())))\n",
    "for_the_home_d = len(list(for_the_home_dict.keys()))\n",
    "personal_d = len(list(personal_dict.keys()))\n",
    "electronic_devices_d = len(list(electronic_devices_dict.keys()))\n",
    "businesses_d = (len(list(businesses_dict.keys())))\n",
    "vehicles_d = (len(list(businesses_dict.keys())))\n",
    "\n",
    "wrongs = []\n",
    "  \n",
    "ZERO = 10**(-32)\n",
    "nCorrect = 0\n",
    "correctd = [0, 0, 0, 0, 0, 0]\n",
    "alldetec = [0, 0, 0, 0, 0, 0]\n",
    "nad = [0, 0, 0, 0, 0, 0]\n",
    "\n",
    "def Accuracy():\n",
    "    all_cat = len(testdata)\n",
    "    return nCorrect/all_cat\n",
    "\n",
    "def Precision(catei):\n",
    "    return correctd[catei]/alldetec[catei]\n",
    "\n",
    "def Recall(catei):\n",
    "    return correctd[catei]/(nad[catei]+correctd[catei])\n",
    "\n",
    "def F1(prc, rec):\n",
    "    return (2 * prc * rec) / (prc + rec)\n",
    "  \n",
    "\n",
    "    "
   ]
  },
  {
   "cell_type": "code",
   "execution_count": 13,
   "id": "277c53f5",
   "metadata": {},
   "outputs": [],
   "source": [
    "def Naive_bayes(alpha):\n",
    "    global nCorrect\n",
    "    for line in testdata.values:\n",
    "        priror = [0, 0, 0, 0, 0, 0,]\n",
    "        for word in line[datas_indx]:\n",
    "            \n",
    "            cul = categories.index(\"leisure-hobbies\")\n",
    "            if word not in leisure_hobbies_dict.keys():\n",
    "                priror[cul] += math.log((ZERO + alpha)/(leisure_hobbies + alpha + leisure_hobbies_d))\n",
    "            else:\n",
    "                priror[cul] += math.log((leisure_hobbies_dict[word] + alpha)/(leisure_hobbies + alpha + leisure_hobbies_d))\n",
    "            \n",
    "            cul = categories.index(\"vehicles\")\n",
    "            if word not in vehicles_dict.keys():\n",
    "                priror[cul] += math.log((ZERO + alpha)/(vehicles + alpha+vehicles_d))\n",
    "            else:\n",
    "                priror[cul] += math.log((vehicles_dict[word]+ alpha)/(vehicles + alpha+vehicles_d))\n",
    "            cul = categories.index(\"for-the-home\")\n",
    "            if word not in for_the_home_dict.keys():\n",
    "                priror[cul] += math.log((ZERO + alpha)/(for_the_home + alpha+for_the_home_d))\n",
    "            else:\n",
    "                priror[cul] += math.log((for_the_home_dict[word] + alpha)/(for_the_home + alpha+for_the_home_d))\n",
    "            \n",
    "            cul = categories.index(\"personal\")\n",
    "            if word not in personal_dict.keys():\n",
    "                priror[cul] += math.log((ZERO + alpha)/(personal + alpha+personal_d))\n",
    "            else:\n",
    "                priror[cul] += math.log((personal_dict[word] + alpha)/(personal + alpha+personal_d))\n",
    "            \n",
    "            cul = categories.index(\"electronic-devices\")\n",
    "            if word not in electronic_devices_dict.keys():\n",
    "                priror[cul] += math.log((ZERO + alpha)/(electronic_devices + alpha+electronic_devices_d))\n",
    "            else:\n",
    "                priror[cul] += math.log((electronic_devices_dict[word]+alpha)/(electronic_devices + alpha+electronic_devices_d))\n",
    "            \n",
    "            cul = categories.index(\"businesses\")\n",
    "            if word not in businesses_dict.keys():\n",
    "                priror[cul] += math.log((ZERO + alpha)/(businesses + alpha+businesses_d))\n",
    "            else:\n",
    "                priror[cul] += math.log((businesses_dict[word]+alpha)/(businesses + alpha+businesses_d))\n",
    "            \n",
    "        predicp = max(priror)\n",
    "        \n",
    "        pcatindx = priror.index(predicp)\n",
    "        pcat = categories[pcatindx]\n",
    "        cate = line[cat_indx]\n",
    "        cateindx = categoriesd[cate]\n",
    "        \n",
    "        alldetec[pcatindx] += 1\n",
    "        if cate == pcat:\n",
    "            nCorrect += 1\n",
    "            correctd[pcatindx] += 1\n",
    "        else:\n",
    "            nad[cateindx] += 1\n",
    "            wrongs.append(line)\n",
    "            \n",
    "\n",
    "   \n",
    "            \n",
    "    "
   ]
  },
  {
   "cell_type": "code",
   "execution_count": 14,
   "id": "b03c91d1",
   "metadata": {},
   "outputs": [
    {
     "name": "stdout",
     "output_type": "stream",
     "text": [
      "Results without additive smoothing\n",
      "Accuracy: 83.0%\n",
      "^^^^^^^^^^^^^^^^^^^^^^^^^^^^^^^^^^^^^^^\n",
      "for  leisure-hobbies\n",
      "Precision: 86.21908127208481%\n",
      "Recall: 81.33333333333333%\n",
      "F1: 83.704974271012%\n",
      "****************************************************\n",
      "for  vehicles\n",
      "Precision: 89.63210702341136%\n",
      "Recall: 89.33333333333333%\n",
      "F1: 89.48247078464107%\n",
      "****************************************************\n",
      "for  for-the-home\n",
      "Precision: 80.82191780821918%\n",
      "Recall: 78.66666666666666%\n",
      "F1: 79.72972972972971%\n",
      "****************************************************\n",
      "for  personal\n",
      "Precision: 86.20689655172413%\n",
      "Recall: 83.33333333333334%\n",
      "F1: 84.7457627118644%\n",
      "****************************************************\n",
      "for  electronic-devices\n",
      "Precision: 87.33333333333333%\n",
      "Recall: 87.33333333333333%\n",
      "F1: 87.33333333333333%\n",
      "****************************************************\n",
      "for  businesses\n",
      "Precision: 69.64285714285714%\n",
      "Recall: 78.0%\n",
      "F1: 73.58490566037736%\n",
      "****************************************************\n",
      "Micro avg:  83.0 %\n",
      "Macro avg:  83.09686274849298 %\n",
      "Weighted avg:  83.41402800315429 %\n",
      "------------------------------------------------------\n",
      "Results with additive smoothing\n",
      "Accuracy: 86.66666666666667%\n",
      "^^^^^^^^^^^^^^^^^^^^^^^^^^^^^^^^^^^^^^^\n",
      "for  leisure-hobbies\n",
      "Precision: 93.15589353612167%\n",
      "Recall: 81.66666666666667%\n",
      "F1: 87.03374777975134%\n",
      "****************************************************\n",
      "for  vehicles\n",
      "Precision: 94.71830985915493%\n",
      "Recall: 89.66666666666666%\n",
      "F1: 92.12328767123286%\n",
      "****************************************************\n",
      "for  for-the-home\n",
      "Precision: 77.55681818181817%\n",
      "Recall: 91.0%\n",
      "F1: 83.74233128834355%\n",
      "****************************************************\n",
      "for  personal\n",
      "Precision: 86.49517684887459%\n",
      "Recall: 89.66666666666666%\n",
      "F1: 88.05237315875614%\n",
      "****************************************************\n",
      "for  electronic-devices\n",
      "Precision: 91.0299003322259%\n",
      "Recall: 91.33333333333333%\n",
      "F1: 91.18136439267886%\n",
      "****************************************************\n",
      "for  businesses\n",
      "Precision: 79.58477508650519%\n",
      "Recall: 76.66666666666667%\n",
      "F1: 78.09847198641766%\n",
      "****************************************************\n",
      "Micro avg:  86.66666666666667 %\n",
      "Macro avg:  86.7052627128634 %\n",
      "Weighted avg:  87.0023726704103 %\n",
      "------------------------------------------------------\n"
     ]
    }
   ],
   "source": [
    "\n",
    "sumF1 = []\n",
    "weighteds = 0\n",
    "\n",
    "cat_size = [leisure_hobbies, vehicles, for_the_home, personal, electronic_devices, businesses]\n",
    "\n",
    "def print_result():\n",
    "    \n",
    "    global sumF1\n",
    "    global weighteds\n",
    "    sumF1.clear()\n",
    "    weighteds = 0\n",
    "    print(\"Accuracy: \" + str(Accuracy()*100) +\"%\")\n",
    "    print(\"^^^^^^^^^^^^^^^^^^^^^^^^^^^^^^^^^^^^^^^\")\n",
    "    for cat in categories:\n",
    "        prcs = Precision(categories.index(cat))\n",
    "        recl = Recall(categories.index(cat))\n",
    "        cF1 = F1(prcs, recl)\n",
    "        print(\"for \", cat)\n",
    "        print(\"Precision: \" + str(prcs*100) +\"%\")\n",
    "        print(\"Recall: \" + str(recl*100) +\"%\")\n",
    "        print(\"F1: \" + str(cF1*100) +\"%\")\n",
    "        print(\"****************************************************\")\n",
    "        weighteds += cF1* cat_size[categories.index(cat)];\n",
    "        sumF1.append(cF1)\n",
    "    \n",
    "    print(\"Micro avg: \", (nCorrect/sum(alldetec)*100), \"%\" )\n",
    "    print(\"Macro avg: \", (sum(sumF1)/len(categories)*100) , \"%\")\n",
    "    print(\"Weighted avg: \", (weighteds/sum(cat_size)*100), \"%\")\n",
    "    print(\"------------------------------------------------------\")\n",
    "  \n",
    "def Cal():\n",
    "    global nCorrect\n",
    "    global correctd\n",
    "    global alldetec\n",
    "    global nad\n",
    "\n",
    "    print(\"Results without additive smoothing\")\n",
    "    Naive_bayes(0)\n",
    "    print_result()\n",
    "    correctd = [0, 0, 0, 0, 0, 0]\n",
    "    alldetec = [0, 0, 0, 0, 0, 0]\n",
    "    nad = [0, 0, 0, 0, 0, 0]\n",
    "    nCorrect = 0\n",
    "    print(\"Results with additive smoothing\")\n",
    "    Naive_bayes(1)\n",
    "    print_result()\n",
    "      \n",
    "            \n",
    "            \n",
    "Cal()\n",
    "          "
   ]
  },
  {
   "cell_type": "markdown",
   "id": "be95ad1f",
   "metadata": {},
   "source": [
    "## Q7\n"
   ]
  },
  {
   "cell_type": "markdown",
   "id": "c651eb59",
   "metadata": {},
   "source": [
    "#### Precision:\n",
    "When our model detects only a few classes for an ad, and if the model detects them correctly, its precision would be 100%, which is obviously not good.\n",
    "\n",
    "#### Recall:\n",
    "The recall value would be 100% if all ads were classified as one class, such as \"personal,\" but we know our model misdetects many other ads and it is not as good."
   ]
  },
  {
   "cell_type": "markdown",
   "id": "8713b68b",
   "metadata": {},
   "source": [
    "## Q8\n",
    "\n",
    "A F1 score is the harmonic mean of the precision and recall.The harmonic mean helps to find multiplicative or divisor relationships between fractions. The biggest F-score possible is 1, which indicates perfect precision and recall, and the smallest is 0, indicating zero precision or recall. F1 combines recall and precision, so it's a better score to measure our model predictions. <br>\n",
    "A model with a recall of 100% and a precision of 0% gets a low score using this mean method.   <br>\n",
    "By using the normal mean equation, we will get a value that is higher, and it is not a good metric, since we don't want both precision and recall to be higher than a certain threshold.  <br>\n",
    "\n",
    "$$F1-score = 2 × (precision × recall)/(precision + recall)$$"
   ]
  },
  {
   "cell_type": "markdown",
   "id": "61f48cbb",
   "metadata": {},
   "source": [
    "## Q9\n",
    "\n",
    "#### Macro:\n",
    "\n",
    "an arithmetic mean of the per-class F1-scores. This is called the macro-averaged F1-score, or the macro-F1 for short, and is computed as a simple arithmetic mean of our per-class F1-scores. <br>\n",
    "When averaging the macro-F1, we gave equal weights to each class. We don’t have to do that: in weighted-average F1-score, or weighted-F1, we weight the F1-score of each class by the number of samples from that class. \n",
    "\n",
    "$$ Macro_{F1} = \\dfrac{correct\\_detected}{all\\_detected} $$\n",
    "\n",
    "#### Micro:\n",
    "\n",
    "The last variant is the micro-averaged F1-score, or the micro-F1. To calculate the micro-F1, we first compute micro-averaged precision and micro-averaged recall over all the samples , and then combine the two. How do we “micro-average”? We simply look at all the samples together. <br>\n",
    "\n",
    "$$ Micro_{F1} = \\dfrac{Sum_{F_n}}{n} $$\n",
    "\n",
    "\n",
    "#### Weighted\n",
    "Based on the proportion for each label in the dataset, weighted F1 calculates the average for each label.  \n",
    "\n",
    "$$ Weighted_{F1} = \\dfrac{Sum(F_n * cat\\_size)}{sum(cat\\_size} $$"
   ]
  },
  {
   "cell_type": "markdown",
   "id": "335d4e01",
   "metadata": {},
   "source": [
    "## Q11\n",
    "\n",
    "You can see that Additive Smoothing can significantly improve the performance of F1.  "
   ]
  },
  {
   "cell_type": "code",
   "execution_count": 15,
   "id": "fe47d2d7",
   "metadata": {},
   "outputs": [
    {
     "data": {
      "text/html": [
       "<div>\n",
       "<style scoped>\n",
       "    .dataframe tbody tr th:only-of-type {\n",
       "        vertical-align: middle;\n",
       "    }\n",
       "\n",
       "    .dataframe tbody tr th {\n",
       "        vertical-align: top;\n",
       "    }\n",
       "\n",
       "    .dataframe thead th {\n",
       "        text-align: right;\n",
       "    }\n",
       "</style>\n",
       "<table border=\"1\" class=\"dataframe\">\n",
       "  <thead>\n",
       "    <tr style=\"text-align: right;\">\n",
       "      <th></th>\n",
       "      <th>title</th>\n",
       "      <th>description</th>\n",
       "      <th>categories</th>\n",
       "      <th>data</th>\n",
       "    </tr>\n",
       "  </thead>\n",
       "  <tbody>\n",
       "    <tr>\n",
       "      <th>105</th>\n",
       "      <td>تی شرت-طرح دار</td>\n",
       "      <td>نو\\nبرندراک ای تیز\\nایکس لارج</td>\n",
       "      <td>personal</td>\n",
       "      <td>[تی, شرت-طرح, برندراک, ای, تیز, ایکس, لارج]</td>\n",
       "    </tr>\n",
       "    <tr>\n",
       "      <th>106</th>\n",
       "      <td>پوشال زیر حیوانات</td>\n",
       "      <td>پوشال . رنده چوب برای زیر حیوانات / همستر ...خ...</td>\n",
       "      <td>leisure-hobbies</td>\n",
       "      <td>[پوشال, حیوانات, پوشال, رنده, چوب, حیوانات, /,...</td>\n",
       "    </tr>\n",
       "    <tr>\n",
       "      <th>107</th>\n",
       "      <td>ویترین چرخان چهارطبقه</td>\n",
       "      <td>تماس از ساعت ۹صبح تا ۷ شب بجز روزهای تعطیل</td>\n",
       "      <td>businesses</td>\n",
       "      <td>[ویترین, چرخان, چهارطبقه, تماس, ساعت, ۹صبح, ۷,...</td>\n",
       "    </tr>\n",
       "    <tr>\n",
       "      <th>108</th>\n",
       "      <td>دیکیسیتی در حد</td>\n",
       "      <td>تردمیل  با توان استثنایی\\nتحمل  فقط  تا  150 ک...</td>\n",
       "      <td>leisure-hobbies</td>\n",
       "      <td>[دیکیسیتی, تردمیل, توان, استثنایی, تحمل, ۱۵۰, ...</td>\n",
       "    </tr>\n",
       "    <tr>\n",
       "      <th>109</th>\n",
       "      <td>موتورسحر 150سی سی مدل ۱۳۹۵</td>\n",
       "      <td>موتورنو واکبند، سند برگ سفید،بیمه یکسال ،همراه...</td>\n",
       "      <td>vehicles</td>\n",
       "      <td>[موتورسحر, ۱۵۰, مدل, ۱۳۹۵, موتورنو, واکبند, سن...</td>\n",
       "    </tr>\n",
       "  </tbody>\n",
       "</table>\n",
       "</div>"
      ],
      "text/plain": [
       "                          title  \\\n",
       "105              تی شرت-طرح دار   \n",
       "106           پوشال زیر حیوانات   \n",
       "107       ویترین چرخان چهارطبقه   \n",
       "108              دیکیسیتی در حد   \n",
       "109  موتورسحر 150سی سی مدل ۱۳۹۵   \n",
       "\n",
       "                                           description       categories  \\\n",
       "105                      نو\\nبرندراک ای تیز\\nایکس لارج         personal   \n",
       "106  پوشال . رنده چوب برای زیر حیوانات / همستر ...خ...  leisure-hobbies   \n",
       "107         تماس از ساعت ۹صبح تا ۷ شب بجز روزهای تعطیل       businesses   \n",
       "108  تردمیل  با توان استثنایی\\nتحمل  فقط  تا  150 ک...  leisure-hobbies   \n",
       "109  موتورنو واکبند، سند برگ سفید،بیمه یکسال ،همراه...         vehicles   \n",
       "\n",
       "                                                  data  \n",
       "105        [تی, شرت-طرح, برندراک, ای, تیز, ایکس, لارج]  \n",
       "106  [پوشال, حیوانات, پوشال, رنده, چوب, حیوانات, /,...  \n",
       "107  [ویترین, چرخان, چهارطبقه, تماس, ساعت, ۹صبح, ۷,...  \n",
       "108  [دیکیسیتی, تردمیل, توان, استثنایی, تحمل, ۱۵۰, ...  \n",
       "109  [موتورسحر, ۱۵۰, مدل, ۱۳۹۵, موتورنو, واکبند, سن...  "
      ]
     },
     "execution_count": 15,
     "metadata": {},
     "output_type": "execute_result"
    }
   ],
   "source": [
    "wrongs_datframe = pd.DataFrame(wrongs, columns = [\"title\", \"description\", \"categories\", \"data\"])[105:110]\n",
    "wrongs_datframe"
   ]
  },
  {
   "cell_type": "markdown",
   "id": "191ff2c1",
   "metadata": {},
   "source": [
    "The most errors were found in the (for-the-home and personal and electronic-devices) categories. As previously observed, most of the words in these categories were also found in other categories. A solution would be to add more words to Stop Words."
   ]
  }
 ],
 "metadata": {
  "kernelspec": {
   "display_name": "Python 3 (ipykernel)",
   "language": "python",
   "name": "python3"
  },
  "language_info": {
   "codemirror_mode": {
    "name": "ipython",
    "version": 3
   },
   "file_extension": ".py",
   "mimetype": "text/x-python",
   "name": "python",
   "nbconvert_exporter": "python",
   "pygments_lexer": "ipython3",
   "version": "3.8.5"
  }
 },
 "nbformat": 4,
 "nbformat_minor": 5
}
